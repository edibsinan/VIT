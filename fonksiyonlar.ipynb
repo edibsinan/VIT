{
 "cells": [
  {
   "cell_type": "code",
   "execution_count": 2,
   "metadata": {},
   "outputs": [
    {
     "name": "stdout",
     "output_type": "stream",
     "text": [
      "25\n",
      "16\n",
      "30\n"
     ]
    }
   ],
   "source": [
    "# 1. Bir Sayının Karesini Hesaplama\n",
    "# Fonksiyon yazmadan ve yazarak bir sayının karesini hesaplayan bir fonksiyon oluşturun.\n",
    "# Soru:\n",
    "sayi=5\n",
    "print(sayi**2)\n",
    "\n",
    "#c Verilen bir sayının karesini hesaplayan bir fonksiyon yazınız. Eğer hiçbir argüman verilmezse, varsayılan olarak 10'un karesini döndürsün.\n",
    "def kareal(sayi=10):\n",
    "    return sayi**2\n",
    "    \n",
    "print(kareal(4))\n",
    "\n",
    "# Ekstra: Üç farklı sayıyı çarpan bir fonksiyon yazınız ve en az bir argüman belirtmeden çağırın.\n",
    "def carp(sayi1=1,sayi2=1,sayi3=1):\n",
    "    return(sayi1*sayi2*sayi3)\n",
    "\n",
    "print(carp(2,3,5))\n",
    "\n",
    "\n",
    "\n"
   ]
  },
  {
   "cell_type": "code",
   "execution_count": 19,
   "metadata": {},
   "outputs": [
    {
     "name": "stdout",
     "output_type": "stream",
     "text": [
      "15\n"
     ]
    }
   ],
   "source": [
    "# 2. İki Sayıyı Toplama\n",
    "# İki sayıyı toplamak için bir fonksiyon oluşturun.\n",
    "# Soru:\n",
    "\n",
    "# topla(a, b) adında bir fonksiyon yazınız. Bu fonksiyon, iki sayıyı toplamalı ve sonucu döndürmelidir.\n",
    "\n",
    "def topla(a,b):\n",
    "    return(a+b)\n",
    "\n",
    "print(topla(5,10))\n"
   ]
  },
  {
   "cell_type": "code",
   "execution_count": 7,
   "metadata": {},
   "outputs": [
    {
     "name": "stdout",
     "output_type": "stream",
     "text": [
      "120\n"
     ]
    }
   ],
   "source": [
    "# 3. Faktöriyel Hesaplama\n",
    "# Bir sayının faktöriyelini hesaplayan bir fonksiyon yazınız.\n",
    "# Soru:\n",
    "# factorial(number) adlı bir fonksiyon yazınız. Bu fonksiyon verilen sayının faktöriyelini hesaplamalıdır. 0 için 1 döndürmelidir.\n",
    "\n",
    "\n",
    "\n",
    "# def factorielhesapla(number):\n",
    "#     if number == 0 or number == 1:\n",
    "#         return 1\n",
    "#         result = 1\n",
    "#     for i in range(1, number + 1):\n",
    "#         result *= i  # Update result in each iteration\n",
    "#     return result\n",
    "\n",
    "# print(factorielhesapla(5)) \n",
    "\n",
    "def factorial(n):\n",
    "    if n==0 or n==1:\n",
    "        return 1\n",
    "    else:\n",
    "        return factorial(n-1)*n\n",
    "print(factorial(5))\n"
   ]
  },
  {
   "cell_type": "code",
   "execution_count": 8,
   "metadata": {},
   "outputs": [
    {
     "data": {
      "text/plain": [
       "24"
      ]
     },
     "execution_count": 8,
     "metadata": {},
     "output_type": "execute_result"
    }
   ],
   "source": [
    "# 3. Faktöriyel Hesaplama\n",
    "def factorial(number):\n",
    "    if number == 0:\n",
    "        return 1\n",
    "    else:\n",
    "        return factorial(number - 1)*number\n",
    "\n",
    "factorial(4)\n"
   ]
  },
  {
   "cell_type": "code",
   "execution_count": 10,
   "metadata": {},
   "outputs": [
    {
     "name": "stdout",
     "output_type": "stream",
     "text": [
      "None\n"
     ]
    }
   ],
   "source": [
    "# 4. Listede En Büyük Sayıyı Bulma\n",
    "# Bir liste içindeki en büyük sayıyı bulan bir fonksiyon yazınız.\n",
    "# Soru:\n",
    "\n",
    "# en_buyuk_sayi(liste) adlı bir fonksiyon oluşturun. Bu fonksiyon verilen bir listenin içindeki en büyük sayıyı döndürmelidir.\n",
    "# Örnek Girdi: [2, 3, 1, 7, 4, 2]\n",
    "# Beklenen Çıktı: 7\n",
    "\n",
    "# def enByukSayiBul(listem):\n",
    "#     return max(listem)\n",
    "# enByukSayiBul((1,2,8,7,3,4))\n",
    "\n",
    "def en_buyuk_sayi(liste):\n",
    "    bsayi=liste[0]\n",
    "    for i in range(1,len(liste)):\n",
    "        if bsayi<liste[i]:\n",
    "            bsayi=liste[i]\n",
    "print(en_buyuk_sayi([2, 3, 1, 7, 4, 2]))\n"
   ]
  },
  {
   "cell_type": "code",
   "execution_count": 15,
   "metadata": {},
   "outputs": [
    {
     "name": "stdout",
     "output_type": "stream",
     "text": [
      "8 yil sonra emekli olacaksin\n",
      "zaten emeklisin\n",
      "5 yil sonra emekli olacaksin\n",
      "13 yil sonra emekli olacaksin\n"
     ]
    }
   ],
   "source": [
    "# 5. Emeklilik Yaşı Hesaplama\n",
    "# Kullanıcının yaşı ve cinsiyetine göre emekliliğe kalan yılı hesaplayan bir fonksiyon yazınız.\n",
    "# Soru:\n",
    "\n",
    "# emeklilik_yasi_hesapla(kadinMi, yas) fonksiyonunu yazınız.\n",
    "# Eğer kişi kadınsa, emeklilik yaşı 55.\n",
    "# Eğer kişi erkekse, emeklilik yaşı 63.\n",
    "# Kişi emekli olmuşsa, 'Zaten emekli' döndürün.\n",
    "\n",
    "def emeklilik(kadinMi, yas):\n",
    "    if kadinMi:\n",
    "        emeklilik_yas=55\n",
    "    else:\n",
    "        emeklilik_yas=63\n",
    "    kalanyil=emeklilik_yas-yas\n",
    "\n",
    "    if kalanyil<=0:\n",
    "        return('zaten emeklisin')\n",
    "    else:\n",
    "        return(f'{kalanyil} yil sonra emekli olacaksin' )\n",
    "    \n",
    "print(emeklilik(False,55))\n",
    "print(emeklilik(False,63))\n",
    "print(emeklilik(True,50))\n",
    "print(emeklilik(False,50))\n",
    "        \n"
   ]
  },
  {
   "cell_type": "code",
   "execution_count": 19,
   "metadata": {},
   "outputs": [
    {
     "name": "stdout",
     "output_type": "stream",
     "text": [
      "1\n",
      "1\n",
      "120\n"
     ]
    }
   ],
   "source": [
    "# 6. Recursive Faktöriyel Hesaplama\n",
    "# Faktöriyel hesaplamasını bir döngü yerine özyineleme (recursion) kullanarak yapınız.\n",
    "# Soru:\n",
    "\n",
    "# recursive_factorial(number) fonksiyonunu yazınız. Bu fonksiyon özyineleme ile faktöriyel hesaplamalıdır.\n",
    "\n",
    "def recursive_factorial(number):\n",
    "    if number<0:\n",
    "        raise ValueError('negetif sayilar icin faktoriel yoktur')\n",
    "    if number==0 or number==1:\n",
    "        return 1\n",
    "    return number*recursive_factorial(number-1)\n",
    "\n",
    "print(recursive_factorial(0))\n",
    "print(recursive_factorial(1))\n",
    "print(recursive_factorial(5))\n"
   ]
  },
  {
   "cell_type": "code",
   "execution_count": 16,
   "metadata": {},
   "outputs": [
    {
     "name": "stdout",
     "output_type": "stream",
     "text": [
      "kab ata ıla\n"
     ]
    },
    {
     "data": {
      "text/plain": [
       "['merhaba', 'nasilsin']"
      ]
     },
     "execution_count": 16,
     "metadata": {},
     "output_type": "execute_result"
    }
   ],
   "source": [
    "# 7. Kelimeleri Ters Çevirme\n",
    "# Bir metindeki her kelimeyi ters çeviren bir sistem oluşturun.\n",
    "# Soru:\n",
    "# kelimeleri_ters_cevir(kelimeler): Kelimeleri ters çeviren bir fonksiyon yazınız.\n",
    "def terscevir(kelime):\n",
    "    return kelime[::-1]\n",
    "print(terscevir('bir cumle gir'))\n",
    "\n",
    "# kelimelere_ayir(metin): Verilen metni kelimelere ayıran bir fonksiyon yazınız.\n",
    "\n",
    "def ayir(kelime):\n",
    "    kelime=kelime.split()\n",
    "    return kelime\n",
    "ayir('merhaba nasilsin')\n",
    "\n",
    "# yeni_metin_olustur(ters_kelimeler): Ters çevrilmiş kelimelerle yeni bir metin oluşturun.\n",
    "# Örnek Girdi: \"Ali ata bak\"\n",
    "# Beklenen Çıktı: \"ilA ata kab\"\n"
   ]
  },
  {
   "cell_type": "code",
   "execution_count": 18,
   "metadata": {},
   "outputs": [
    {
     "data": {
      "text/plain": [
       "{'bu': 2, 'bir': 2, 'test': 2, 'sadece': 1}"
      ]
     },
     "execution_count": 18,
     "metadata": {},
     "output_type": "execute_result"
    }
   ],
   "source": [
    "# 8. Kelime Frekansı Hesaplama\n",
    "# Bir metindeki kelimelerin kaç kez geçtiğini hesaplayan bir fonksiyon yazınız.\n",
    "# Soru:\n",
    "# kelime_frekansi(metin) adlı bir fonksiyon yazınız.\n",
    "# Örnek Girdi: \"bu bir test bu sadece bir test\"\n",
    "# Beklenen Çıktı: {'bu': 2, 'bir': 2, 'test': 2, 'sadece': 1}\n",
    "def kelime_frekansi(metin):\n",
    "    kelimeler=metin.split()\n",
    "\n",
    "    frekans={}\n",
    "\n",
    "    for kelime in kelimeler:\n",
    "        kelime=kelime.lower()\n",
    "        if kelime in frekans:\n",
    "            frekans[kelime]+=1\n",
    "        else:\n",
    "            frekans[kelime]=1\n",
    "\n",
    "    return frekans\n",
    "\n",
    "kelime_frekansi(\"bu bir test bu sadece bir test\")\n",
    "\n"
   ]
  },
  {
   "cell_type": "code",
   "execution_count": 20,
   "metadata": {},
   "outputs": [
    {
     "name": "stdout",
     "output_type": "stream",
     "text": [
      "15\n"
     ]
    },
    {
     "data": {
      "text/plain": [
       "25"
      ]
     },
     "execution_count": 20,
     "metadata": {},
     "output_type": "execute_result"
    }
   ],
   "source": [
    "# 9. Lambda ile Toplama ve Kare Hesaplama\n",
    "# Anonim (lambda) fonksiyonlar kullanarak işlemler yapınız.\n",
    "# Soru:\n",
    "# İki sayıyı toplayan bir lambda fonksiyonu oluşturun.\n",
    "# Verilen bir sayının karesini hesaplayan bir lambda fonksiyonu yazınız.\n",
    "\n",
    "topla=lambda a,b: a+b\n",
    "\n",
    "print(topla(10,5))\n",
    "\n",
    "kare= lambda a: a**2\n",
    "kare(5)"
   ]
  },
  {
   "cell_type": "code",
   "execution_count": 19,
   "metadata": {},
   "outputs": [
    {
     "data": {
      "text/plain": [
       "7.6"
      ]
     },
     "execution_count": 19,
     "metadata": {},
     "output_type": "execute_result"
    }
   ],
   "source": [
    "# 10. Bir Listenin Ortalamasını Hesaplama\n",
    "# Verilen bir listenin ortalamasını hesaplayınız.\n",
    "# Soru\n",
    "# ortalama = lambda liste: sum(liste) / len(liste) şeklinde bir lambda fonksiyonu yazınız.\n",
    "# Örnek Girdi: [1, 5, 10, 2, 20]\n",
    "# Beklenen Çıktı: 7.6\n",
    "\n",
    "ortalama=lambda liste: sum(liste)/len(liste)\n",
    "girdi= [1, 5, 10, 2, 20]\n",
    "ortalama(girdi)"
   ]
  },
  {
   "cell_type": "code",
   "execution_count": 35,
   "metadata": {},
   "outputs": [
    {
     "name": "stdout",
     "output_type": "stream",
     "text": [
      "tek sayilar [1, -5]\n",
      "negatif sayilar [False, True, False, True, False]\n"
     ]
    }
   ],
   "source": [
    "# 11. Lambda ile Filtreleme İşlemleri\n",
    "# Bir liste üzerinde lambda ile filtreleme yapınız.\n",
    "# Soru:\n",
    "# Bir listede sadece tek sayıları filtreleyen bir lambda ifadesi yazınız.\n",
    "liste= [1, -5, 10, -2, 20]\n",
    "tekSayilar=filter(lambda x: x%2!=0, liste)\n",
    "print('tek sayilar',list(tekSayilar))\n",
    "# Negatif sayıları filtreleyen bir lambda ifadesi yazınız.\n",
    "# Örnek Girdi: [-1, 4, 8, 14, -5]\n",
    "# Beklenen Çıktı: [-1, -5]\n",
    "# girdi= [-1, 4, 8, 14, -5]\n",
    "\n",
    "negatifler=list(map(lambda x: x<0 ,liste))\n",
    "print('negatif sayilar',negatifler)"
   ]
  },
  {
   "cell_type": "code",
   "execution_count": 37,
   "metadata": {},
   "outputs": [
    {
     "name": "stdout",
     "output_type": "stream",
     "text": [
      "20\n",
      "270\n",
      "9\n"
     ]
    }
   ],
   "source": [
    "\n",
    "# 12. Reduce ile Liste İşlemleri\n",
    "# Bir listedeki elemanlara toplama ve çarpma işlemi uygulayınız.\n",
    "# Soru:\n",
    "# Bir listenin elemanlarının toplamını ve çarpımını reduce kullanarak hesaplayınız.\n",
    "# Listedeki en büyük sayıyı reduce ile bulunuz.\n",
    "# Örnek Girdi: [1, 5, 3, 9, 2]\n",
    "# Beklenen Çıktı:\n",
    "# Toplam: 20\n",
    "# Çarpım: 270\n",
    "# En Büyük: 9\n",
    "from functools import reduce\n",
    "\n",
    "liste= [1, 5, 3, 9, 2]\n",
    "\n",
    "toplam=reduce(lambda x,y: x+y, liste) \n",
    "print(toplam)\n",
    "\n",
    "\n",
    "carpim=reduce(lambda x,y: x*y, liste)\n",
    "print(carpim)\n",
    "enbuyuksayi= reduce(lambda x,y: x if x>y else y, liste )\n",
    "print(enbuyuksayi)\n",
    "\n"
   ]
  },
  {
   "cell_type": "code",
   "execution_count": 37,
   "metadata": {},
   "outputs": [
    {
     "name": "stdout",
     "output_type": "stream",
     "text": [
      "1\n",
      "1\n",
      "2\n",
      "3\n",
      "5\n"
     ]
    }
   ],
   "source": [
    "# 13. Fibonacci Dizisi Oluşturma\n",
    "# Soru:\n",
    "# Bir fonksiyon yazınız. Bu fonksiyon, verilen bir sayı kadar Fibonacci dizisi elemanını bir liste olarak döndürsün. \n",
    "# Örneğin, fibonacci(10) çağrıldığında 10 elemanlı bir Fibonacci dizisi üretmelidir.\n",
    "\n",
    "def fibonacci(sayi):\n",
    "    a,b=1,1\n",
    "    for i in range(sayi):\n",
    "        print(a)\n",
    "        a,b= b,a+b\n",
    "fibonacci(5)\n"
   ]
  },
  {
   "cell_type": "code",
   "execution_count": 9,
   "metadata": {},
   "outputs": [
    {
     "data": {
      "text/plain": [
       "False"
      ]
     },
     "execution_count": 9,
     "metadata": {},
     "output_type": "execute_result"
    }
   ],
   "source": [
    "# 14. Bir Sayının Asal Olup Olmadığını Kontrol Etme\n",
    "# Soru:\n",
    "# Bir fonksiyon yazınız. Bu fonksiyon, bir sayının asal olup olmadığını kontrol etsin ve sonuç olarak True (asal) veya False (asal değil) döndürsün.\n",
    "#  Örneğin, asal_mi(29) çağrıldığında True, asal_mi(10) çağrıldığında False döndürmelidir.\n",
    "\n",
    "def asalMi(sayi):\n",
    "    if sayi <2 :\n",
    "        return False\n",
    "    for i in range(2, int(sayi**0.5)+1):\n",
    "        if sayi%2==0:\n",
    "            return False\n",
    "    return True\n",
    "\n",
    "asalMi(8)"
   ]
  },
  {
   "cell_type": "code",
   "execution_count": 58,
   "metadata": {},
   "outputs": [
    {
     "name": "stdout",
     "output_type": "stream",
     "text": [
      "None\n"
     ]
    }
   ],
   "source": [
    "# 14. Bir Sayının Asal Olup Olmadığını Kontrol Etme\n",
    "# Soru:\n",
    "# Bir fonksiyon yazınız. Bu fonksiyon, bir sayının asal olup olmadığını kontrol etsin ve sonuç olarak True (asal) veya False (asal değil) döndürsün.\n",
    "#  Örneğin, asal_mi(29) çağrıldığında True, asal_mi(10) çağrıldığında False döndürmelidir.\n",
    "\n",
    "def asalMi(sayi):\n",
    "    if sayi<2:\n",
    "        for i in range(2,sayi):\n",
    "            if sayi%i!=0:\n",
    "                return False\n",
    "        else:\n",
    "            return True\n",
    "print(asalMi(4))"
   ]
  },
  {
   "cell_type": "code",
   "execution_count": 21,
   "metadata": {},
   "outputs": [
    {
     "name": "stdout",
     "output_type": "stream",
     "text": [
      "['tek', 'cift', 'tek', 'cift', 'tek']\n"
     ]
    }
   ],
   "source": [
    "# 15. Liste Elemanlarını Çift mi Tek mi Diye Ayırma\n",
    "# Soru:\n",
    "# Bir liste içindeki elemanları \"Çift\" veya \"Tek\" olarak belirten bir fonksiyon yazınız. \n",
    "# Fonksiyon, liste elemanlarının sırasına göre \"Çift\" ya da \"Tek\" stringlerini döndüren bir liste oluştursun. \n",
    "# Örneğin, cift_tek_ayir([1, 2, 3, 4, 5]) çağrıldığında ['Tek', 'Çift', 'Tek', 'Çift', 'Tek'] döndürmelidir.\n",
    "\n",
    "sonuc=[]\n",
    "def ciftTekAyir(liste):\n",
    "    \n",
    "    for i in liste:\n",
    "        if i%2==0:\n",
    "            sonuc.append('cift')\n",
    "        else:\n",
    "            sonuc.append('tek')\n",
    "    return sonuc\n",
    "\n",
    "liste=[1, 2, 3, 4, 5]\n",
    "sonuc=ciftTekAyir(liste)\n",
    "print(sonuc)\n"
   ]
  },
  {
   "cell_type": "code",
   "execution_count": 4,
   "metadata": {},
   "outputs": [
    {
     "name": "stdout",
     "output_type": "stream",
     "text": [
      "tek\n",
      "cift\n",
      "tek\n",
      "cift\n",
      "tek\n",
      "None\n"
     ]
    }
   ],
   "source": [
    "# 15. Liste Elemanlarını Çift mi Tek mi Diye Ayırma\n",
    "# Soru:\n",
    "# Bir liste içindeki elemanları \"Çift\" veya \"Tek\" olarak belirten bir fonksiyon yazınız. \n",
    "# Fonksiyon, liste elemanlarının sırasına göre \"Çift\" ya da \"Tek\" stringlerini döndüren bir liste oluştursun. \n",
    "# Örneğin, cift_tek_ayir([1, 2, 3, 4, 5]) çağrıldığında ['Tek', 'Çift', 'Tek', 'Çift', 'Tek'] döndürmelidir.\n",
    "\n",
    "liste=[1,2,3,4,5]\n",
    "\n",
    "def cift_tek_ayir(liste):\n",
    "    for i in liste:\n",
    "        if i%2==0:\n",
    "            print('cift')\n",
    "        else:\n",
    "            print('tek')\n",
    "\n",
    "print(cift_tek_ayir(liste))\n"
   ]
  },
  {
   "cell_type": "code",
   "execution_count": 5,
   "metadata": {},
   "outputs": [
    {
     "name": "stdout",
     "output_type": "stream",
     "text": [
      "['tek', 'cift', 'tek', 'cift', 'tek']\n"
     ]
    }
   ],
   "source": [
    "liste=[1,2,3,4,5]\n",
    "\n",
    "def cift_tek_ayir(liste):\n",
    "    sonuc=[]\n",
    "    for i in liste:\n",
    "        if i %2==0:\n",
    "            sonuc.append('cift')\n",
    "        elif i %2==1:\n",
    "            sonuc.append('tek')\n",
    "    return sonuc\n",
    "print(cift_tek_ayir(liste))"
   ]
  },
  {
   "cell_type": "code",
   "execution_count": null,
   "metadata": {},
   "outputs": [],
   "source": [
    "liste=[1,2,3,4,5]\n"
   ]
  },
  {
   "cell_type": "code",
   "execution_count": 31,
   "metadata": {},
   "outputs": [
    {
     "name": "stdout",
     "output_type": "stream",
     "text": [
      "([1, 3, 5], [2, 4])\n"
     ]
    }
   ],
   "source": [
    "# 16. Liste Elemanlarını Çift Sayılar ve Tek Sayılar Olarak Gruplama\n",
    "# Soru:\n",
    "# Bir listeyi iki ayrı listeye ayıran bir fonksiyon yazınız. \n",
    "# İlk liste sadece çift sayıları, ikinci liste ise sadece tek sayıları içermelidir. \n",
    "# Fonksiyon bu iki listeyi bir tuple (demet) olarak döndürsün. Örneğin, gruplandir([1, 2, 3, 4, 5]) çağrıldığında ([2, 4], [1, 3, 5]) döndürmelidir.\n",
    "tekSayilar=[]\n",
    "ciftSayilar=[]\n",
    "def tekCiftAyir(liste):\n",
    "    for i in liste:\n",
    "        if i % 2==0:\n",
    "            ciftSayilar.append(i)\n",
    "        else:\n",
    "            tekSayilar.append(i)\n",
    "    return tekSayilar,ciftSayilar\n",
    "\n",
    "liste=(1,2,3,4,5)\n",
    "sonuc=tekCiftAyir(liste)\n",
    "\n",
    "print(sonuc)\n",
    "\n",
    "print('merhaba')\n"
   ]
  },
  {
   "cell_type": "code",
   "execution_count": 10,
   "metadata": {},
   "outputs": [
    {
     "name": "stdout",
     "output_type": "stream",
     "text": [
      "[5, 4, 3, 2, 1]\n",
      "[10, 9, 8, 7, 6]\n"
     ]
    }
   ],
   "source": [
    "# 17. Bir Listenin Tersini Döndürme\n",
    "# Soru:\n",
    "# Bir listeyi ters çeviren bir fonksiyon yazınız. Örneğin, ters_cevir([1, 2, 3, 4, 5]) çağrıldığında [5, 4, 3, 2, 1] döndürmelidir.\n",
    "\n",
    "def tersCevir(liste):\n",
    "    liste.reverse()\n",
    "    return liste\n",
    "\n",
    "liste=[1, 2, 3, 4, 5]\n",
    "\n",
    "print(tersCevir(liste))\n",
    "\n",
    "def cevir(list):\n",
    "    list=list[::-1]\n",
    "    return list\n",
    "list=[6,7,8,9,10]\n",
    "\n",
    "print(cevir(list))\n"
   ]
  },
  {
   "cell_type": "code",
   "execution_count": 8,
   "metadata": {},
   "outputs": [
    {
     "name": "stdout",
     "output_type": "stream",
     "text": [
      "[5, 4, 3, 2, 1]\n"
     ]
    }
   ],
   "source": [
    "def tersCevir(listem):\n",
    "    return listem[::-1]\n",
    "\n",
    "print(tersCevir([1,2,3,4,5]))\n",
    "\n"
   ]
  },
  {
   "cell_type": "code",
   "execution_count": 9,
   "metadata": {},
   "outputs": [
    {
     "name": "stdout",
     "output_type": "stream",
     "text": [
      "(4, 3, 75)\n"
     ]
    }
   ],
   "source": [
    "def kareAltopla(ilksayi,ikincisayi,carpandeger=1):\n",
    "    return ilksayi**2 ,carpandeger,ikincisayi**2 *carpandeger\n",
    "print(kareAltopla(2,5,3))"
   ]
  },
  {
   "cell_type": "code",
   "execution_count": 39,
   "metadata": {},
   "outputs": [
    {
     "name": "stdout",
     "output_type": "stream",
     "text": [
      "20.0\n"
     ]
    }
   ],
   "source": [
    "# 18. Bir Listenin Ortalamasını Hesaplama\n",
    "# Soru:\n",
    "# Bir fonksiyon yazınız. Bu fonksiyon, bir listenin elemanlarının aritmetik ortalamasını hesaplasın ve sonucu döndürsün. Örneğin, liste_ortalama([10, 20, 30]) çağrıldığında 20.0 döndürmelidir.\n",
    "\n",
    "def ortalamaHesapla(liste):\n",
    "    ortalama=sum(liste)/len(liste)\n",
    "    print( ortalama)\n",
    "\n",
    "liste=[10,20,30]\n",
    "\n",
    "ortalamaHesapla(liste)"
   ]
  },
  {
   "cell_type": "code",
   "execution_count": 40,
   "metadata": {},
   "outputs": [
    {
     "name": "stdout",
     "output_type": "stream",
     "text": [
      "5\n"
     ]
    }
   ],
   "source": [
    "# 19. Listedeki En Küçük Elemanı Bulma\n",
    "# Soru:\n",
    "# Bir fonksiyon yazınız. Bu fonksiyon, bir liste içindeki en küçük elemanı döndürsün. Örneğin, en_kucuk([10, 20, 5, 15]) çağrıldığında 5 döndürmelidir.\n",
    "def enKucukBul(liste):\n",
    "    enKucuk=min(liste)\n",
    "    print(enKucuk)\n",
    "\n",
    "liste=[10, 20, 5, 15]\n",
    "\n",
    "enKucukBul(liste)"
   ]
  },
  {
   "cell_type": "code",
   "execution_count": 41,
   "metadata": {},
   "outputs": [
    {
     "name": "stdout",
     "output_type": "stream",
     "text": [
      "{'h': 1, 'e': 1, 'l': 3, 'o': 2, ' ': 1, 'w': 1, 'r': 1, 'd': 1}\n"
     ]
    }
   ],
   "source": [
    "# 20. Liste İçindeki Harflerin Frekansını Bulma\n",
    "# Soru:\n",
    "# Bir string içindeki harflerin frekansını hesaplayan bir fonksiyon yazınız. \n",
    "# Fonksiyon, harfleri ve her bir harfin kaç kez tekrar ettiğini bir dictionary (sözlük) olarak döndürmelidir. \n",
    "# Örneğin, harf_frekansi(\"hello world\") çağrıldığında {'h': 1, 'e': 1, 'l': 3, 'o': 2, ' ': 1, 'w': 1, 'r': 1, 'd': 1} döndürmelidir\n",
    "\n",
    "def harfSay(metin):\n",
    "    frekanslar={}\n",
    "    for harf in metin:\n",
    "        if harf in frekanslar:\n",
    "            frekanslar[harf]+=1\n",
    "        else:\n",
    "            frekanslar[harf]=1\n",
    "    return frekanslar\n",
    "\n",
    "metin='hello world'\n",
    "\n",
    "print(harfSay(metin))"
   ]
  },
  {
   "cell_type": "code",
   "execution_count": 56,
   "metadata": {},
   "outputs": [
    {
     "name": "stdout",
     "output_type": "stream",
     "text": [
      "Counter({'l': 3, 'o': 2, 'h': 1, 'e': 1, ' ': 1, 'w': 1, 'r': 1, 'd': 1})\n"
     ]
    }
   ],
   "source": [
    "from collections import Counter\n",
    "\n",
    "def frekansSay(metin):\n",
    "    return Counter(metin)\n",
    "\n",
    "print(frekansSay(metin))"
   ]
  },
  {
   "cell_type": "code",
   "execution_count": 58,
   "metadata": {},
   "outputs": [
    {
     "name": "stdout",
     "output_type": "stream",
     "text": [
      "Counter({'l': 3, 'o': 2, 'h': 1, 'e': 1, ' ': 1, 'w': 1, 'r': 1, 'd': 1})\n"
     ]
    }
   ],
   "source": [
    "from collections import Counter\n",
    "\n",
    "def harf_frekansi_counter(metin):\n",
    "  return Counter(metin)\n",
    "\n",
    "# Örnek kullanım:\n",
    "sonuc = harf_frekansi_counter(metin)\n",
    "print(sonuc)"
   ]
  },
  {
   "cell_type": "code",
   "execution_count": 1,
   "metadata": {},
   "outputs": [
    {
     "ename": "AttributeError",
     "evalue": "'dict' object has no attribute 'value'",
     "output_type": "error",
     "traceback": [
      "\u001b[1;31m---------------------------------------------------------------------------\u001b[0m",
      "\u001b[1;31mAttributeError\u001b[0m                            Traceback (most recent call last)",
      "Cell \u001b[1;32mIn[1], line 28\u001b[0m\n\u001b[0;32m     25\u001b[0m     toplam\u001b[38;5;241m=\u001b[39msepet\u001b[38;5;241m.\u001b[39mvalue([\u001b[38;5;241m0\u001b[39m]\u001b[38;5;241m+\u001b[39m[\u001b[38;5;241m1\u001b[39m][\u001b[38;5;241m2\u001b[39m])\n\u001b[0;32m     26\u001b[0m     \u001b[38;5;28mprint\u001b[39m(toplam)\n\u001b[1;32m---> 28\u001b[0m \u001b[43msepet_hesapla\u001b[49m\u001b[43m(\u001b[49m\u001b[43msepet\u001b[49m\u001b[43m)\u001b[49m\n",
      "Cell \u001b[1;32mIn[1], line 25\u001b[0m, in \u001b[0;36msepet_hesapla\u001b[1;34m(sepet)\u001b[0m\n\u001b[0;32m     24\u001b[0m \u001b[38;5;28;01mdef\u001b[39;00m \u001b[38;5;21msepet_hesapla\u001b[39m(sepet):\n\u001b[1;32m---> 25\u001b[0m     toplam\u001b[38;5;241m=\u001b[39m\u001b[43msepet\u001b[49m\u001b[38;5;241;43m.\u001b[39;49m\u001b[43mvalue\u001b[49m([\u001b[38;5;241m0\u001b[39m]\u001b[38;5;241m+\u001b[39m[\u001b[38;5;241m1\u001b[39m][\u001b[38;5;241m2\u001b[39m])\n\u001b[0;32m     26\u001b[0m     \u001b[38;5;28mprint\u001b[39m(toplam)\n",
      "\u001b[1;31mAttributeError\u001b[0m: 'dict' object has no attribute 'value'"
     ]
    }
   ],
   "source": [
    "# Soru: Bir e-ticaret sitesinde, kullanıcının sepetindeki ürünlerin\n",
    "# toplam fiyatını hesaplayan ve\n",
    "# varsa indirimleri uygulayan bir Python fonksiyonu yazın.\n",
    "# Fonksiyon adı: sepet_hesapla(sepet, indirim_kodu)\n",
    "# Parametreler:\n",
    "# sepet: Bir sözlük, her anahtar ürün adını ve değer olarak ürünün fiyatını içeren.\n",
    "# indirim_kodu: Bir string, belirli indirim kodlarını içeren\n",
    "# (\"INDIRIM10\" %10 indirim, \"INDIRIM20\" %20 indirim).\n",
    "# Beklenen Çıktı: Fonksiyon toplam fiyatı hesaplamalı ve\n",
    "# varsa indirimi uygulamalıdır. Örneğin, eğer sepet şu şekildeyse:\n",
    "# sepet = {\n",
    "#     'laptop': 1500,\n",
    "#     'kulaklik': 200,\n",
    "#     'mouse': 50\n",
    "# }\n",
    "# ve indirim kodu \"INDIRIM10\" ise, sepet_hesapla(sepet, \"INDIRIM10\")\n",
    "# fonksiyonu 1575 sonucunu döndürmelidir (1750'den %10 indirim uygulandıktan sonra).\n",
    "\n",
    "sepet = {\n",
    "    'laptop': 1500,\n",
    "    'kulaklik': 200,\n",
    "    'mouse': 50\n",
    "}\n",
    "\n",
    "def sepet_hesapla(sepet, indirim_kodu='INDIRIM10'):\n",
    "    toplam=0\n",
    "    for key,value in sepet.items():\n"
   ]
  },
  {
   "cell_type": "code",
   "execution_count": null,
   "metadata": {},
   "outputs": [],
   "source": []
  }
 ],
 "metadata": {
  "kernelspec": {
   "display_name": "Python 3",
   "language": "python",
   "name": "python3"
  },
  "language_info": {
   "codemirror_mode": {
    "name": "ipython",
    "version": 3
   },
   "file_extension": ".py",
   "mimetype": "text/x-python",
   "name": "python",
   "nbconvert_exporter": "python",
   "pygments_lexer": "ipython3",
   "version": "3.13.0"
  }
 },
 "nbformat": 4,
 "nbformat_minor": 2
}
