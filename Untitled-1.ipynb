{
 "cells": [
  {
   "cell_type": "code",
   "execution_count": 7,
   "metadata": {},
   "outputs": [
    {
     "name": "stdout",
     "output_type": "stream",
     "text": [
      "['a', 'd', 'f', 'g', 's', 's']\n",
      "3\n",
      "2\n"
     ]
    },
    {
     "data": {
      "text/plain": [
       "[]"
      ]
     },
     "execution_count": 7,
     "metadata": {},
     "output_type": "execute_result"
    }
   ],
   "source": [
    "numbers=[1,2,3,4,5,6,6,6,7,8,9,10]\n",
    "letters=['a','s','d','f','g','s']\n",
    "\n",
    "\n",
    "numbers.pop()\n",
    "numbers.pop(0)\n",
    "numbers.remove(5)\n",
    "\n",
    "letters.sort()\n",
    "print(letters)\n",
    "\n",
    "numbers.reverse()\n",
    "\n",
    "numbers.sort(reverse=True)\n",
    "print(numbers.count(6))\n",
    "\n",
    "print(letters.count('s'))\n",
    "\n",
    "numbers.clear()\n",
    "numbers"
   ]
  },
  {
   "cell_type": "code",
   "execution_count": 8,
   "metadata": {},
   "outputs": [
    {
     "name": "stdout",
     "output_type": "stream",
     "text": [
      "['ali', 'yagmur', 'hakan', 'deniz', 'cenk']\n",
      "['sena', 'ali', 'yagmur', 'hakan', 'deniz', 'cenk']\n",
      "['sena', 'ali', 'yagmur', 'hakan', 'deniz', 'cenk', 'xxx']\n",
      "['sena', 'ali', 'yagmur', 'hakan', 'deniz', 'cenk', 'www', 'xxx']\n",
      "['sena', 'ali', 'yagmur', 'hakan', 'cenk', 'www', 'xxx']\n",
      "['sena', 'yagmur', 'hakan', 'cenk', 'www', 'xxx']\n"
     ]
    }
   ],
   "source": [
    "names=['ali','yagmur','hakan','deniz']\n",
    "years=[1998,2000, 1998,1987]\n",
    "\n",
    "34 # 1- \"Cenk\" ismini listenin sonuna ekleyiniz.\n",
    "5 # 2- \"Sena\" değerini listenin başına ekleyiniz.\n",
    "6 # 3- \"Deniz\" ismini listeden siliniz.\n",
    "7 # 4- \"Deniz\" isminin indeksi nedir ?\n",
    "8 #5- \"Ali\" listenin bir elemanı mıdır ?\n",
    "9 #6- Liste elemanlarını ters çevirin.\n",
    "10 # 7- Liste elemanlarını alfabetik olarak sıralayınız.\n",
    "11 # 8- years listesini rakamsal büyüklüğe göre sıralayınız.\n",
    "12 # 9- str = \"Chevrolet,Dacia\" karakter dizisini listeye çeviriniz.\n",
    "13 # 10- years dizisinin en büyük ve en küçük elemanı nedir ?\n",
    "14 # 11- years dizisinde kaç tane 1998 değeri vardır ?\n",
    "15 # 12- years dizisinin tüm elemanlarını siliniz.\n",
    "16 # 13- Kullanıcıdan alacağınız 3 tane marka bilgisini bir listede saklayınız.\"\"\"\n",
    "\n",
    "names.append('cenk')\n",
    "print(names)\n",
    "names.insert(0,'sena')\n",
    "print(names)\n",
    "\n",
    "names.insert(len(names),'xxx')\n",
    "# sona ekler\n",
    "\n",
    "print(names)\n",
    "names.insert(-1,'www')\n",
    "print(names)\n",
    "\n",
    "names.remove('deniz')\n",
    "print(names)\n",
    "\n",
    "names.pop(1)\n",
    "print(names)"
   ]
  },
  {
   "cell_type": "code",
   "execution_count": 9,
   "metadata": {},
   "outputs": [
    {
     "name": "stdout",
     "output_type": "stream",
     "text": [
      "1\n",
      "False\n",
      "True\n"
     ]
    },
    {
     "data": {
      "text/plain": [
       "[1987, 1998, 1998, 2000]"
      ]
     },
     "execution_count": 9,
     "metadata": {},
     "output_type": "execute_result"
    }
   ],
   "source": [
    "index=names.index('yagmur')\n",
    "print(index)\n",
    "\n",
    "print('oguz' in names)\n",
    "print('hakan' in names)\n",
    "names.index('cenk')\n",
    "\n",
    "names.reverse()\n",
    "\n",
    "names.sort(reverse=True)\n",
    "\n",
    "years.sort()\n",
    "years\n",
    "\n",
    "\n"
   ]
  },
  {
   "cell_type": "code",
   "execution_count": 10,
   "metadata": {},
   "outputs": [
    {
     "name": "stdout",
     "output_type": "stream",
     "text": [
      "['Chevrolet', 'Dacia']\n"
     ]
    }
   ],
   "source": [
    "str = \"Chevrolet,Dacia\"\n",
    "liste=str.split(',')\n",
    "print(liste)"
   ]
  },
  {
   "cell_type": "code",
   "execution_count": 11,
   "metadata": {},
   "outputs": [
    {
     "name": "stdout",
     "output_type": "stream",
     "text": [
      "7\n",
      "1\n"
     ]
    }
   ],
   "source": [
    "years=[1,2,3,4,5,6,7]\n",
    "enBuyuk=max(years)\n",
    "print(enBuyuk)\n",
    "\n",
    "enKucuk=min(years)\n",
    "print(enKucuk)"
   ]
  },
  {
   "cell_type": "code",
   "execution_count": 12,
   "metadata": {},
   "outputs": [
    {
     "name": "stdout",
     "output_type": "stream",
     "text": [
      "0\n",
      "[]\n"
     ]
    }
   ],
   "source": [
    "say=years.count(1998)\n",
    "print(say)\n",
    "years.clear()\n",
    "print(years)\n"
   ]
  },
  {
   "cell_type": "code",
   "execution_count": 13,
   "metadata": {},
   "outputs": [
    {
     "name": "stdout",
     "output_type": "stream",
     "text": [
      "Hello ali\n",
      "Hello kemal\n",
      "Hello user\n"
     ]
    }
   ],
   "source": [
    "def sayHello(name=\"user\"):\n",
    "    print('Hello '+name)\n",
    "\n",
    "sayHello('ali')\n",
    "sayHello('kemal')\n",
    "sayHello()\n"
   ]
  },
  {
   "cell_type": "code",
   "execution_count": 15,
   "metadata": {},
   "outputs": [
    {
     "name": "stdout",
     "output_type": "stream",
     "text": [
      "Hello Kemal\n"
     ]
    }
   ],
   "source": [
    "def sayHello(name='user'):\n",
    "    return('Hello '+name)\n",
    "\n",
    "mesaj=sayHello('Kemal')\n",
    "print(mesaj)\n",
    "\n"
   ]
  },
  {
   "cell_type": "code",
   "execution_count": 21,
   "metadata": {},
   "outputs": [
    {
     "name": "stdout",
     "output_type": "stream",
     "text": [
      "11\n",
      "15\n"
     ]
    }
   ],
   "source": [
    "def total(num1,num2):\n",
    "    return (num1+num2)\n",
    "\n",
    "top=total(5,6)\n",
    "print(top)\n",
    "print(total(10,5))"
   ]
  },
  {
   "cell_type": "code",
   "execution_count": 28,
   "metadata": {},
   "outputs": [
    {
     "name": "stdout",
     "output_type": "stream",
     "text": [
      "70.0\n"
     ]
    }
   ],
   "source": [
    "def yuzde30indirimyap(sayi):\n",
    "    print (sayi*0.70)\n",
    "\n",
    "yuzde30indirimyap(100)"
   ]
  },
  {
   "cell_type": "code",
   "execution_count": 62,
   "metadata": {},
   "outputs": [
    {
     "name": "stdout",
     "output_type": "stream",
     "text": [
      "Ahmet'in yasi 20 \n",
      "Ali'nin yasi 15\n",
      "\"ali\" bey emekliliginize \"17\" yil kaldi\n"
     ]
    }
   ],
   "source": [
    "def yashesapla(yas):\n",
    "    return 2024-yas\n",
    "\n",
    "ahmetYas=yashesapla(2004)\n",
    "aliYas=yashesapla(2009)\n",
    "\n",
    "print(\"Ahmet'in yasi\",ahmetYas , \"\\nAli'nin yasi\",aliYas)\n",
    "\n",
    "def emekliYasHesapla(dogumYili, isim):\n",
    "    yas=yashesapla(dogumYili)\n",
    "    emeklilik=65-yas\n",
    "    if emeklilik>0:\n",
    "        print(f'\"{isim }\" bey emekliliginize \"{emeklilik}\" yil kaldi')\n",
    "    else:\n",
    "        print(f'\"{isim}\" bey zaten emekli oldunuz')\n",
    "\n",
    "emekliYasHesapla(1976, 'ali')"
   ]
  },
  {
   "cell_type": "code",
   "execution_count": 2,
   "metadata": {},
   "outputs": [
    {
     "name": "stdout",
     "output_type": "stream",
     "text": [
      "name is cinar\n",
      "age is 30\n",
      "phone is 555\n",
      "name is hasan\n",
      "age is 25\n",
      "tel is 111\n",
      "mail is www\n"
     ]
    }
   ],
   "source": [
    "def displayuser(**args):\n",
    "    for key, value in args.items():\n",
    "        print('{} is {}'.format(key, value))\n",
    "\n",
    "displayuser(name='cinar',   age=30, phone=555)\n",
    "displayuser(name='hasan',   age=25, tel=111,    mail='www')"
   ]
  },
  {
   "cell_type": "code",
   "execution_count": 13,
   "metadata": {},
   "outputs": [
    {
     "name": "stdout",
     "output_type": "stream",
     "text": [
      "\n",
      "merhaba\n",
      "merhaba\n",
      "merhaba\n",
      "\n",
      "hello\n",
      "hello\n"
     ]
    }
   ],
   "source": [
    "def tekraryaz(a,b):\n",
    "    print(a*b)\n",
    "\n",
    "tekraryaz(\"\\nmerhaba\",3)\n",
    "tekraryaz('\\nhello',2)"
   ]
  },
  {
   "cell_type": "code",
   "execution_count": 18,
   "metadata": {},
   "outputs": [
    {
     "name": "stdout",
     "output_type": "stream",
     "text": [
      "[1, 2, 3, 4, 5, 'merhaba']\n"
     ]
    }
   ],
   "source": [
    "def listeyap(*params):\n",
    "    liste=[]\n",
    "\n",
    "    for param in params:\n",
    "        liste.append(param)\n",
    "    return liste\n",
    "result=listeyap(1,2,3,4,5,'merhaba')\n",
    "print(result)\n"
   ]
  },
  {
   "cell_type": "code",
   "execution_count": null,
   "metadata": {},
   "outputs": [],
   "source": [
    "sayi1=int (input('sayi gir'))\n",
    "sayi2=int (input('sayi gir'))\n",
    "\n",
    "def asalsayibul(sayi1,sayi2):\n",
    "    for sayi in range(sayi1,sayi2+1):\n",
    "        if sayi>1:\n",
    "             \n"
   ]
  }
 ],
 "metadata": {
  "kernelspec": {
   "display_name": "Python 3",
   "language": "python",
   "name": "python3"
  },
  "language_info": {
   "codemirror_mode": {
    "name": "ipython",
    "version": 3
   },
   "file_extension": ".py",
   "mimetype": "text/x-python",
   "name": "python",
   "nbconvert_exporter": "python",
   "pygments_lexer": "ipython3",
   "version": "3.13.0"
  }
 },
 "nbformat": 4,
 "nbformat_minor": 2
}
