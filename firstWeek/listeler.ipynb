{
 "cells": [
  {
   "cell_type": "code",
   "execution_count": 68,
   "metadata": {},
   "outputs": [
    {
     "name": "stdout",
     "output_type": "stream",
     "text": [
      "My\n",
      "[1, 2, 3]\n",
      "3\n"
     ]
    }
   ],
   "source": [
    "message='hello there. My name is Sinan'.split()\n",
    "print(message[2])\n",
    "\n",
    "my_list=[1,2,3]\n",
    "print(my_list)\n",
    "print(len(my_list))"
   ]
  },
  {
   "cell_type": "code",
   "execution_count": 69,
   "metadata": {},
   "outputs": [
    {
     "name": "stdout",
     "output_type": "stream",
     "text": [
      "['ahmet', 30, 'mehmet', 40]\n",
      "[['ahmet', 30], ['mehmet', 40]]\n",
      "['mehmet', 40]\n",
      "mehmet\n"
     ]
    }
   ],
   "source": [
    "userA=['ahmet',30] \n",
    "userB=['mehmet',40]\n",
    "\n",
    "users=userA+userB\n",
    "print(users)\n",
    "\n",
    "users=[userA, userB]\n",
    "print(users)\n",
    "print(users[1])\n",
    "print(users[1][0])\n"
   ]
  },
  {
   "cell_type": "code",
   "execution_count": 70,
   "metadata": {},
   "outputs": [
    {
     "name": "stdout",
     "output_type": "stream",
     "text": [
      "4 eleman var\n",
      "4\n",
      "Bmw\n",
      "Mazda\n",
      "['Bmw', 'Mercedes', 'Opel', 'toyota']\n"
     ]
    },
    {
     "data": {
      "text/plain": [
       "\"yigit,bilgi,2010,'puani ',66.67\""
      ]
     },
     "execution_count": 70,
     "metadata": {},
     "output_type": "execute_result"
    }
   ],
   "source": [
    "\"\"\" 1- \"Bmw, Mercedes, Opel, Mazda\" elemanlarına sahip bir liste oluşturunuz.\n",
    "    2- Liste Kaç elemanlıdır ?\n",
    "    3- Listenin ilk ve son elemanı nedir ?\n",
    "    4- Mazda değerini Toyota ile değiştirin.\n",
    "    5- Mercedes listenin bir elemanı mıdır ?\n",
    "    6- Listenin -2 indeksindeki değer nedir ?\n",
    "    7- Listenin ilk 3 elemanını alın.\n",
    "    8- Listenin son 2 elemanı yerine \"Totoya\" ve \"Renault\" değerlerini ekleyin.\n",
    "    9- Listenin üzerine \"Audi\" ve \"Nissan\" değerlerini ekleyin.\n",
    "    10- Listenin son elemanını silin.\n",
    "    11- Liste elemanlarını tersten yazdırınız.\n",
    "    12- Aşağıdaki verileri bir liste içinde saklayınız.\n",
    "    # studentA: Yiğit Bilgi 2010, (70,60,70)\n",
    "    # öğrenciB: Sena Turan 1999, (80,80,70)\n",
    "    # studentC: Ahmet Turan 1998, (80,70,90)\"\"\"\n",
    "\n",
    "markalar=['Bmw', 'Mercedes', 'Opel', 'Mazda']\n",
    "print(len(markalar),'eleman var')\n",
    "result=len(markalar)\n",
    "print(result)\n",
    "\n",
    "print(markalar[0])\n",
    "print(markalar[-1])\n",
    "\n",
    "markalar[-1]='toyota'\n",
    "print(markalar)\n",
    "\n",
    "'Mercedes' in markalar\n",
    "\n",
    "markalar[-2]\n",
    "\n",
    "markalar[0:3]\n",
    "\n",
    "markalar[-2:]=['subaru','mitsu']\n",
    "markalar\n",
    "result=markalar+['WV', 'lexus']\n",
    "result\n",
    "del result[-1]\n",
    "result\n",
    "result[::-1]\n",
    "\n",
    "studentA=['yigit','bilgi',2010,[50,60,70]]\n",
    "studentB=['Sena','Turan',1999,[80,80,70]]\n",
    "studentC=['Ahmet','Turan',1998,[80,70,90]]\n",
    "\n",
    "result=f\"{studentA[0]},{studentA[1]},{studentA[2]},'puani ',{((studentA[3][0]+studentA[3][1]+studentC[3][2])/len(studentA[3])):.2f}\"\n",
    "result"
   ]
  },
  {
   "cell_type": "code",
   "execution_count": null,
   "metadata": {},
   "outputs": [],
   "source": []
  }
 ],
 "metadata": {
  "kernelspec": {
   "display_name": "Python 3",
   "language": "python",
   "name": "python3"
  },
  "language_info": {
   "codemirror_mode": {
    "name": "ipython",
    "version": 3
   },
   "file_extension": ".py",
   "mimetype": "text/x-python",
   "name": "python",
   "nbconvert_exporter": "python",
   "pygments_lexer": "ipython3",
   "version": "3.13.0"
  }
 },
 "nbformat": 4,
 "nbformat_minor": 2
}
